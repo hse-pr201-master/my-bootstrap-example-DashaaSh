{
  "nbformat": 4,
  "nbformat_minor": 0,
  "metadata": {
    "colab": {
      "provenance": []
    },
    "kernelspec": {
      "name": "python3",
      "display_name": "Python 3"
    },
    "language_info": {
      "name": "python"
    }
  },
  "cells": [
    {
      "cell_type": "code",
      "execution_count": 1,
      "metadata": {
        "id": "Fiw85_8mQDGA"
      },
      "outputs": [],
      "source": [
        "import numpy as np\n",
        "import pandas as pd\n",
        "import seaborn as sns"
      ]
    },
    {
      "cell_type": "code",
      "source": [
        "!pip install arch"
      ],
      "metadata": {
        "colab": {
          "base_uri": "https://localhost:8080/"
        },
        "id": "WUarQK81QD7E",
        "outputId": "d4f119d8-696d-4947-db20-7c3acadced55"
      },
      "execution_count": 2,
      "outputs": [
        {
          "output_type": "stream",
          "name": "stdout",
          "text": [
            "Collecting arch\n",
            "  Downloading arch-6.2.0-cp310-cp310-manylinux_2_17_x86_64.manylinux2014_x86_64.whl (981 kB)\n",
            "\u001b[2K     \u001b[90m━━━━━━━━━━━━━━━━━━━━━━━━━━━━━━━━━━━━━━━━\u001b[0m \u001b[32m981.7/981.7 kB\u001b[0m \u001b[31m10.0 MB/s\u001b[0m eta \u001b[36m0:00:00\u001b[0m\n",
            "\u001b[?25hRequirement already satisfied: numpy>=1.19 in /usr/local/lib/python3.10/dist-packages (from arch) (1.23.5)\n",
            "Requirement already satisfied: scipy>=1.5 in /usr/local/lib/python3.10/dist-packages (from arch) (1.11.3)\n",
            "Requirement already satisfied: pandas>=1.1 in /usr/local/lib/python3.10/dist-packages (from arch) (1.5.3)\n",
            "Requirement already satisfied: statsmodels>=0.12 in /usr/local/lib/python3.10/dist-packages (from arch) (0.14.0)\n",
            "Requirement already satisfied: python-dateutil>=2.8.1 in /usr/local/lib/python3.10/dist-packages (from pandas>=1.1->arch) (2.8.2)\n",
            "Requirement already satisfied: pytz>=2020.1 in /usr/local/lib/python3.10/dist-packages (from pandas>=1.1->arch) (2023.3.post1)\n",
            "Requirement already satisfied: patsy>=0.5.2 in /usr/local/lib/python3.10/dist-packages (from statsmodels>=0.12->arch) (0.5.3)\n",
            "Requirement already satisfied: packaging>=21.3 in /usr/local/lib/python3.10/dist-packages (from statsmodels>=0.12->arch) (23.2)\n",
            "Requirement already satisfied: six in /usr/local/lib/python3.10/dist-packages (from patsy>=0.5.2->statsmodels>=0.12->arch) (1.16.0)\n",
            "Installing collected packages: arch\n",
            "Successfully installed arch-6.2.0\n"
          ]
        }
      ]
    },
    {
      "cell_type": "code",
      "source": [
        "from arch.bootstrap import IIDBootstrap, IndependentSamplesBootstrap"
      ],
      "metadata": {
        "id": "NHxBdc62QHlr"
      },
      "execution_count": 3,
      "outputs": []
    },
    {
      "cell_type": "markdown",
      "source": [
        "Необходимо построить бутстрэп доверительный интервал для отношения дисперсий двух выборок с нормальным распределением"
      ],
      "metadata": {
        "id": "LpXQaBtHRRgp"
      }
    },
    {
      "cell_type": "code",
      "source": [
        "seed = 23657\n",
        "rng = np.random.default_rng(seed)"
      ],
      "metadata": {
        "id": "zashCRjvQfH9"
      },
      "execution_count": 5,
      "outputs": []
    },
    {
      "cell_type": "code",
      "source": [
        "x2 = rng.normal(loc=7, scale=3, size=20)"
      ],
      "metadata": {
        "id": "KkRa09CXQKvL"
      },
      "execution_count": 6,
      "outputs": []
    },
    {
      "cell_type": "code",
      "source": [
        "x2"
      ],
      "metadata": {
        "colab": {
          "base_uri": "https://localhost:8080/"
        },
        "id": "bW0XB4SeQsY4",
        "outputId": "cf7c2057-5482-4d5f-baf0-1287abb43a24"
      },
      "execution_count": 8,
      "outputs": [
        {
          "output_type": "execute_result",
          "data": {
            "text/plain": [
              "array([12.8578398 ,  7.1468781 ,  9.0281624 ,  8.05529705,  7.28632503,\n",
              "        2.30409598,  3.98660136, 10.8469175 ,  8.15560909,  4.75338016,\n",
              "        7.45931438,  7.73159378,  2.28198687, 10.09313052,  6.19647089,\n",
              "        4.92850185,  7.36899996,  5.61379521,  4.10366544,  9.01171084])"
            ]
          },
          "metadata": {},
          "execution_count": 8
        }
      ]
    },
    {
      "cell_type": "code",
      "source": [
        "x1 = rng.normal(loc=2, scale=1, size=20)"
      ],
      "metadata": {
        "id": "fKd0kekEQynJ"
      },
      "execution_count": 18,
      "outputs": []
    },
    {
      "cell_type": "code",
      "source": [
        "x1"
      ],
      "metadata": {
        "colab": {
          "base_uri": "https://localhost:8080/"
        },
        "id": "M9xlI4WsR9IW",
        "outputId": "14de46ca-b4ea-4e04-db09-34196b37cb3e"
      },
      "execution_count": 19,
      "outputs": [
        {
          "output_type": "execute_result",
          "data": {
            "text/plain": [
              "array([3.08881794, 1.54376261, 0.48940991, 1.46356173, 1.34479243,\n",
              "       2.52021441, 1.52674265, 1.78365288, 2.06652269, 2.14419059,\n",
              "       2.82309349, 1.13919417, 3.00733626, 3.49230463, 2.87794718,\n",
              "       1.58435841, 2.3402208 , 2.95059949, 2.59768627, 3.8365093 ])"
            ]
          },
          "metadata": {},
          "execution_count": 19
        }
      ]
    },
    {
      "cell_type": "code",
      "source": [
        "def var_ratio(x, y):\n",
        "  return (np.std(y))**2 / (np.std(x))**2"
      ],
      "metadata": {
        "id": "hOwQT-JQQYOE"
      },
      "execution_count": 20,
      "outputs": []
    },
    {
      "cell_type": "code",
      "source": [
        "boot_x1_x2 = IndependentSamplesBootstrap(x1, x2, seed = 23657)\n",
        "boot_x1_x2.conf_int(var_ratio, reps=10000, size=0.95, method='basic')"
      ],
      "metadata": {
        "colab": {
          "base_uri": "https://localhost:8080/"
        },
        "id": "m0xRIBZWR4AO",
        "outputId": "cd849773-00ae-438a-ea55-2a5c66dbafa8"
      },
      "execution_count": 21,
      "outputs": [
        {
          "output_type": "execute_result",
          "data": {
            "text/plain": [
              "array([[-1.88775717],\n",
              "       [15.86436369]])"
            ]
          },
          "metadata": {},
          "execution_count": 21
        }
      ]
    },
    {
      "cell_type": "markdown",
      "source": [
        "D(x2) = 9, D(x1) = 1 -> D(x2)/D(x1) = 9 попадает в построенный доверительный интервал -> доверительный интервал построен верно"
      ],
      "metadata": {
        "id": "kqSwx4eOTSBh"
      }
    },
    {
      "cell_type": "code",
      "source": [],
      "metadata": {
        "id": "lU2U-GZgSOrb"
      },
      "execution_count": null,
      "outputs": []
    }
  ]
}